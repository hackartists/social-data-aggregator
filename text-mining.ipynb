{
 "cells": [
  {
   "cell_type": "code",
   "execution_count": 2,
   "id": "5400dbf5-0178-41ab-aab3-87e236903f60",
   "metadata": {
    "collapsed": false
   },
   "outputs": [],
   "source": [
    "# loading libraries\n",
    "import pandas as pd\n",
    "import numpy as np\n",
    "import nltk\n",
    "import os\n",
    "import nltk.corpus# sample text for performing tokenization\n",
    "from nltk.tokenize import word_tokenize# Passing the string text into word tokenize for breaking the sentences\n",
    "import re\n"
   ]
  },
  {
   "cell_type": "code",
   "execution_count": 3,
   "id": "8407de3c-f493-4fb8-b5a6-d1c7d21ca25c",
   "metadata": {
    "collapsed": false
   },
   "outputs": [
    {
     "name": "stderr",
     "output_type": "stream",
     "text": [
      "[nltk_data] Downloading package stopwords to\n",
      "[nltk_data]     /home/hackartist/nltk_data...\n",
      "[nltk_data]   Package stopwords is already up-to-date!\n",
      "[nltk_data] Downloading package wordnet to\n",
      "[nltk_data]     /home/hackartist/nltk_data...\n",
      "[nltk_data]   Package wordnet is already up-to-date!\n"
     ]
    },
    {
     "data": {
      "text/plain": [
       "True"
      ]
     },
     "execution_count": 3,
     "metadata": {},
     "output_type": "execute_result"
    }
   ],
   "source": [
    "# pre-prepare\n",
    "# nltk.download('punkt')\n",
    "nltk.download('stopwords')\n",
    "nltk.download('wordnet')"
   ]
  },
  {
   "cell_type": "code",
   "execution_count": 5,
   "id": "21e211c9-9328-41fc-b991-64dfe2b27b79",
   "metadata": {
    "collapsed": false
   },
   "outputs": [],
   "source": [
    "def generation(start_date, end_date):\n",
    "    month = start_date % 100\n",
    "    end_month = end_date % 100\n",
    "    year = int(start_date / 100)\n",
    "    date = start_date\n",
    "    lines = \"\"\n",
    "    while date <= end_date:\n",
    "        filename = \"en/{0}-{1:02d}.txt\".format(year,month)\n",
    "        f = open(filename,\"r\")\n",
    "        lines = lines + f.read()\n",
    "        f.close()\n",
    "\n",
    "        month = month + 1\n",
    "        if month == 13:\n",
    "            month = 1\n",
    "            year = year + 1\n",
    "        date = (year*100) + month\n",
    "    return lines\n",
    "\n",
    "# text = generation(201604, 201605)\n",
    "# len(text)"
   ]
  },
  {
   "cell_type": "code",
   "execution_count": 6,
   "id": "67e27819-4831-4030-9526-125d088f7d3c",
   "metadata": {
    "collapsed": false
   },
   "outputs": [],
   "source": [
    "# manipulating data\n",
    "def manipulation(text):\n",
    "    lines = [ l for l in text.split('\\n') ]\n",
    "    lines = ' '.join(lines)\n",
    "    lines = re.sub(\"(http|ftp|https):\\/\\/([\\w_-]+(?:(?:\\.[\\w_-]+)+))([\\w.,@?^=%&:\\/~+#-]*[\\w@?^=%&\\/~+#-])\",\" \",lines.lower())\n",
    "    lines = re.sub(\"[^a-zA-Z]\",\" \",lines.lower())\n",
    "    lines = re.sub(\"[ ]+\",\" \",lines.lower())\n",
    "    lines = re.sub(\"smart contract\",\"smartcontract\",lines.lower())\n",
    "    lines = re.sub(\"smart contracts\",\"smartcontract\",lines.lower())\n",
    "    lines = re.findall('\\w{2,}', lines)\n",
    "    lines = ' '.join([x for x in lines])\n",
    "    return lines\n",
    "\n",
    "# text = manipulation(text)\n",
    "# len(text)"
   ]
  },
  {
   "cell_type": "code",
   "execution_count": 7,
   "id": "d9be28c5-64d7-47e3-851d-d5cf32142c69",
   "metadata": {
    "collapsed": false
   },
   "outputs": [],
   "source": [
    "from nltk import word_tokenize\n",
    "from nltk.corpus import stopwords\n",
    "# from nltk.stem import PorterStemmer\n",
    "\n",
    "def tokenization(text):\n",
    "    # pst = PorterStemmer()\n",
    "    a = set(stopwords.words('english'))\n",
    "    token = [ x for x in word_tokenize(text.lower()) if x not in a ]\n",
    "    # token = [ pst.stem(x) for x in token ]\n",
    "\n",
    "    return token\n",
    "\n",
    "# tokens = tokenization(text)\n",
    "# tokens"
   ]
  },
  {
   "cell_type": "code",
   "execution_count": 8,
   "id": "4fd2d552-f2dc-4ce3-aee1-5da393462f84",
   "metadata": {
    "collapsed": false
   },
   "outputs": [],
   "source": [
    "# getting frequency by word\n",
    "from nltk.probability import FreqDist\n",
    "\n",
    "def frequency(tokens):\n",
    "    ignore_words = [\"dao\",\"http\",\"https\", \"rt\", \"via\", \"amp\", \"great\", \"good\", \"back\", \"con\",\"get\",\"go\",\"based\",\"become\",\"today\",\"like\"]\n",
    "    tokens = [x for x in tokens if x not in ignore_words]\n",
    "    fdist = FreqDist(tokens)\n",
    "    fdist1 = fdist.most_common(60)\n",
    "    return fdist1\n",
    "# fdist = frequency(tokens)\n",
    "# fdist"
   ]
  },
  {
   "cell_type": "code",
   "execution_count": 9,
   "id": "f5e7dbfe-b35a-444d-9e27-eed55c4aebf3",
   "metadata": {
    "collapsed": false
   },
   "outputs": [],
   "source": [
    "import csv\n",
    "\n",
    "def text_mining(start_date, end_date):\n",
    "    text = generation(start_date, end_date)\n",
    "    text = manipulation(text)\n",
    "    tokens = tokenization(text)\n",
    "\n",
    "    return frequency(tokens)\n",
    "\n",
    "def write_csv(filename, data):\n",
    "    f=open(filename, \"w\")\n",
    "    writer=csv.writer(f)\n",
    "    writer.writerow([\"keyword\",\"count\"])\n",
    "    [ writer.writerow([x,y]) for (x,y) in data ]\n",
    "    f.close()\n",
    "\n",
    "def mining_and_write(filename, start_date, end_date):\n",
    "    write_csv(filename, text_mining(start_date, end_date))\n",
    "\n",
    "# gen1 = mining_and_write('gen1.csv',201604,201801)\n",
    "# gen1\n",
    "# gen2 = mining_and_write('gen2.csv',201802,202003)\n",
    "# gen2\n",
    "# gen3 = mining_and_write('gen3.csv',202004,202212)\n",
    "# gen3"
   ]
  },
  {
   "cell_type": "code",
   "execution_count": 1,
   "id": "b13dbc80-ecfa-48ec-a5e8-5fa8283a5274",
   "metadata": {
    "collapsed": false
   },
   "outputs": [
    {
     "name": "stderr",
     "output_type": "stream",
     "text": [
      "[nltk_data] Downloading package wordnet to\n",
      "[nltk_data]     /home/hackartist/nltk_data...\n",
      "[nltk_data]   Package wordnet is already up-to-date!\n"
     ]
    },
    {
     "ename": "NameError",
     "evalue": "name 'documents' is not defined",
     "output_type": "error",
     "traceback": [
      "\u001b[0;31m---------------------------------------------------------------------------\u001b[0m",
      "\u001b[0;31mNameError\u001b[0m                                 Traceback (most recent call last)",
      "Cell \u001b[0;32mIn[1], line 19\u001b[0m\n\u001b[1;32m     16\u001b[0m             result\u001b[38;5;241m.\u001b[39mappend(lemmatize_stemming(token))\n\u001b[1;32m     17\u001b[0m     \u001b[38;5;28;01mreturn\u001b[39;00m result\n\u001b[0;32m---> 19\u001b[0m processed_docs \u001b[38;5;241m=\u001b[39m \u001b[43mdocuments\u001b[49m[\u001b[38;5;124m'\u001b[39m\u001b[38;5;124mheadline_text\u001b[39m\u001b[38;5;124m'\u001b[39m]\u001b[38;5;241m.\u001b[39mmap(preprocess)\n\u001b[1;32m     20\u001b[0m processed_docs[:\u001b[38;5;241m10\u001b[39m]\n\u001b[1;32m     22\u001b[0m dictionary \u001b[38;5;241m=\u001b[39m gensim\u001b[38;5;241m.\u001b[39mcorpora\u001b[38;5;241m.\u001b[39mDictionary(processed_docs)\n",
      "\u001b[0;31mNameError\u001b[0m: name 'documents' is not defined"
     ]
    }
   ],
   "source": [
    "import gensim\n",
    "from gensim.utils import simple_preprocess\n",
    "from gensim.parsing.preprocessing import STOPWORDS\n",
    "from nltk.stem import WordNetLemmatizer, SnowballStemmer\n",
    "from nltk.stem.porter import *\n",
    "import nltk\n",
    "nltk.download('wordnet')\n",
    "\n",
    "def lemmatize_stemming(text):\n",
    "    return stemmer.stem(WordNetLemmatizer().lemmatize(text, pos='v'))\n",
    "\n",
    "def preprocess(text):\n",
    "    result = []\n",
    "    for token in gensim.utils.simple_preprocess(text):\n",
    "        if token not in gensim.parsing.preprocessing.STOPWORDS and len(token) > 3:\n",
    "            result.append(lemmatize_stemming(token))\n",
    "    return result\n",
    "\n",
    "processed_docs = documents['headline_text'].map(preprocess)\n",
    "processed_docs[:10]\n",
    "\n",
    "dictionary = gensim.corpora.Dictionary(processed_docs)\n",
    "count = 0\n",
    "for k, v in dictionary.iteritems():\n",
    "    print(k, v)\n",
    "    count += 1\n",
    "    if count > 10:\n",
    "        break\n",
    "dictionary.filter_extremes(no_below=15, no_above=0.5, keep_n=100000)\n",
    "bow_corpus = [dictionary.doc2bow(doc) for doc in processed_docs]"
   ]
  },
  {
   "cell_type": "code",
   "execution_count": null,
   "id": "d3fc9ce3-72c8-4d9f-93e8-66615178e0df",
   "metadata": {
    "collapsed": false
   },
   "outputs": [],
   "source": [
    "bow_doc_4310 = bow_corpus[4310]\n",
    "for i in range(len(bow_doc_4310)):\n",
    "    print(\"Word {} (\\\"{}\\\") appears {} time.\".format(bow_doc_4310[i][0], \n",
    "                                               dictionary[bow_doc_4310[i][0]], \n",
    "bow_doc_4310[i][1]))"
   ]
  },
  {
   "cell_type": "code",
   "execution_count": 1,
   "id": "7c40af4b-afcf-4149-9d6e-209e58db0078",
   "metadata": {
    "collapsed": false
   },
   "outputs": [
    {
     "ename": "NameError",
     "evalue": "name 'bow_corpus' is not defined",
     "output_type": "error",
     "traceback": [
      "\u001b[0;31m---------------------------------------------------------------------------\u001b[0m",
      "\u001b[0;31mNameError\u001b[0m                                 Traceback (most recent call last)",
      "Cell \u001b[0;32mIn[1], line 2\u001b[0m\n\u001b[1;32m      1\u001b[0m \u001b[38;5;28;01mfrom\u001b[39;00m \u001b[38;5;21;01mgensim\u001b[39;00m \u001b[38;5;28;01mimport\u001b[39;00m corpora, models\n\u001b[0;32m----> 2\u001b[0m tfidf \u001b[38;5;241m=\u001b[39m models\u001b[38;5;241m.\u001b[39mTfidfModel(\u001b[43mbow_corpus\u001b[49m)\n\u001b[1;32m      3\u001b[0m corpus_tfidf \u001b[38;5;241m=\u001b[39m tfidf[bow_corpus]\n\u001b[1;32m      4\u001b[0m \u001b[38;5;28;01mfrom\u001b[39;00m \u001b[38;5;21;01mpprint\u001b[39;00m \u001b[38;5;28;01mimport\u001b[39;00m pprint\n",
      "\u001b[0;31mNameError\u001b[0m: name 'bow_corpus' is not defined"
     ]
    }
   ],
   "source": [
    "from gensim import corpora, models\n",
    "tfidf = models.TfidfModel(bow_corpus)\n",
    "corpus_tfidf = tfidf[bow_corpus]\n",
    "from pprint import pprint\n",
    "for doc in corpus_tfidf:\n",
    "    pprint(doc)\n",
    "    break"
   ]
  },
  {
   "cell_type": "code",
   "execution_count": null,
   "id": "22675db5-d9cb-4d93-8aac-7a139be6e57c",
   "metadata": {
    "collapsed": false
   },
   "outputs": [],
   "source": [
    "lda_model = gensim.models.LdaMulticore(bow_corpus, num_topics=10, id2word=dictionary, passes=2, workers=2)\n",
    "for idx, topic in lda_model.print_topics(-1):\n",
    "    print('Topic: {} \\nWords: {}'.format(idx, topic))\n",
    "lda_model_tfidf = gensim.models.LdaMulticore(corpus_tfidf, num_topics=10, id2word=dictionary, passes=2, workers=4)\n",
    "for idx, topic in lda_model_tfidf.print_topics(-1):\n",
    "    print('Topic: {} Word: {}'.format(idx, topic))"
   ]
  },
  {
   "cell_type": "code",
   "execution_count": null,
   "id": "f3824f00-c767-408c-a25e-7a6c09c58760",
   "metadata": {
    "collapsed": false
   },
   "outputs": [],
   "source": []
  }
 ],
 "metadata": {
  "kernelspec": {
   "argv": [
    "python",
    "-m",
    "ipykernel_launcher",
    "-f",
    "{connection_file}"
   ],
   "display_name": "Python 3 (ipykernel)",
   "env": null,
   "interrupt_mode": "signal",
   "language": "python",
   "metadata": {
    "debugger": true
   },
   "name": "python3"
  },
  "name": "text-mining.ipynb"
 },
 "nbformat": 4,
 "nbformat_minor": 5
}
